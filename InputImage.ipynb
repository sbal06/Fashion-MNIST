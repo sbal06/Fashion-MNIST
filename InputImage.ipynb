{
  "nbformat": 4,
  "nbformat_minor": 0,
  "metadata": {
    "colab": {
      "provenance": [],
      "authorship_tag": "ABX9TyP+I0ac1EqJ5fKJewhop3Eb",
      "include_colab_link": true
    },
    "kernelspec": {
      "name": "python3",
      "display_name": "Python 3"
    },
    "language_info": {
      "name": "python"
    }
  },
  "cells": [
    {
      "cell_type": "markdown",
      "metadata": {
        "id": "view-in-github",
        "colab_type": "text"
      },
      "source": [
        "<a href=\"https://colab.research.google.com/github/sbal06/Fashion-MNIST/blob/main/InputImage.ipynb\" target=\"_parent\"><img src=\"https://colab.research.google.com/assets/colab-badge.svg\" alt=\"Open In Colab\"/></a>"
      ]
    },
    {
      "cell_type": "code",
      "execution_count": null,
      "metadata": {
        "id": "-sCFLvtB5l8a"
      },
      "outputs": [],
      "source": [
        "from google.colab.patches import cv2_imshow\n",
        "from PIL import Image, ImageOps\n",
        "classes = ['T-shirt/Top', 'Trouser', 'Pullover', 'Dress', 'Coat', 'Sandals', 'Shirt', 'Sneaker', 'Bag', 'Ankle Boots']\n",
        "\n",
        "image = Image.open('bag.jpg')\n",
        "image = image.resize((28, 28))\n",
        "image = ImageOps.grayscale(image)\n",
        "image = ImageOps.invert(image)"
      ]
    },
    {
      "cell_type": "code",
      "source": [
        "# Pass it in to the convolutional layer!\n",
        "\n",
        "# We need to resize the image into a 28 by 28 image before passing it in.\n",
        "\n",
        "# to fit the batch_size (need it to be 4-Dimensional)\n",
        "gray_input_image = np.reshape(image, (-1, 28, 28, 1))\n",
        "predicted_probs = model.predict(gray_input_image)\n",
        "print(predicted_probs)\n",
        "\n",
        "index_max = np.argmax(predicted_probs, axis = -1)\n",
        "\n",
        "probability = np.max(predicted_probs, axis = -1)\n",
        "\n",
        "print(probability)\n",
        "print(classes[index_max[0]])"
      ],
      "metadata": {
        "id": "sP4IH0q95q18"
      },
      "execution_count": null,
      "outputs": []
    }
  ]
}